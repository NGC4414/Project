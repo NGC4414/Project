{
 "cells": [
  {
   "cell_type": "code",
   "execution_count": 1,
   "id": "5d83dd42",
   "metadata": {},
   "outputs": [],
   "source": [
    "import speech_recognition as sr\n",
    "import pyttsx3\n",
    "import pywhatkit\n",
    "import datetime\n",
    "import wikipedia\n",
    "import pyaudio\n"
   ]
  },
  {
   "cell_type": "code",
   "execution_count": null,
   "id": "ef701938",
   "metadata": {},
   "outputs": [],
   "source": [
    "listener = sr.Recognizer()\n",
    "engine = pyttsx3.init()\n",
    "voices = engine.getProperty('voices')\n",
    "engine.setProperty('voice', voices[0].id)"
   ]
  },
  {
   "cell_type": "code",
   "execution_count": null,
   "id": "854336f9",
   "metadata": {},
   "outputs": [],
   "source": [
    "def talk(text):\n",
    "    engine.say(text)\n",
    "    engine.runAndWait()\n",
    "    \n",
    "    \n",
    "def take_command():\n",
    "    try:\n",
    "        with sr.Microphone() as source:\n",
    "            global command     #making the command variable global so as to avoid Unbound local error\n",
    "            print('listening...')\n",
    "            listener.pause_threshold = 1\n",
    "            listener.adjust_for_ambient_noise(source)\n",
    "            voice = listener.listen(source)\n",
    "            command = listener.recognize_google(voice)\n",
    "            command = command.lower()\n",
    "            print(command)\n",
    "    except:\n",
    "        pass\n",
    "    return command\n",
    "\n",
    "\n",
    "def run_transcript():\n",
    "    command = take_command()\n",
    "    print(command)\n",
    "          \n",
    "    if ('hello' or 'hi') in command:\n",
    "        talk('Hello to you, I hope you have nice day')\n",
    "        \n",
    "    elif ('apple' or 'orange' or 'tomato') in command:\n",
    "        print('I can pick that up')\n",
    "    \n",
    "    elif 'play' in command:\n",
    "        song = command.replace('play', '')\n",
    "        talk('playing ' + song)\n",
    "        pywhatkit.playonyt(song)\n",
    "        \n",
    "    elif 'time' in command:\n",
    "        time = datetime.datetime.now().strftime('%I:%M %p')\n",
    "        talk('Current time is ' + time)\n",
    "        \n",
    "    elif 'who is' in command:\n",
    "        person = command.replace('Can you look for', '')\n",
    "        info = wikipedia.summary(person, 1)\n",
    "        print(info)\n",
    "        talk(info)\n",
    "        \n",
    "    elif 'thank you' in command:\n",
    "        talk('You are most welcome')\n",
    "\n",
    "    elif ('how are you doing' or 'how is it going' or 'how are you') in command:\n",
    "        talk('I am good. Thank you for asking')\n",
    "\n",
    "    elif ('bye' or 'see you later') in command:   \n",
    "        talk('going offline')\n",
    "        quit()\n",
    "\n",
    "    else:\n",
    "        talk('I did not quite get that')"
   ]
  },
  {
   "cell_type": "code",
   "execution_count": null,
   "id": "2ef53dcd",
   "metadata": {},
   "outputs": [],
   "source": [
    "while True:\n",
    "    run_transcript()"
   ]
  }
 ],
 "metadata": {
  "kernelspec": {
   "display_name": "Python 3 (ipykernel)",
   "language": "python",
   "name": "python3"
  },
  "language_info": {
   "codemirror_mode": {
    "name": "ipython",
    "version": 3
   },
   "file_extension": ".py",
   "mimetype": "text/x-python",
   "name": "python",
   "nbconvert_exporter": "python",
   "pygments_lexer": "ipython3",
   "version": "3.9.13"
  }
 },
 "nbformat": 4,
 "nbformat_minor": 5
}
