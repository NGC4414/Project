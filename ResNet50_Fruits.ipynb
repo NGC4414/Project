{
  "cells": [
    {
      "cell_type": "code",
      "execution_count": null,
      "metadata": {
        "colab": {
          "base_uri": "https://localhost:8080/"
        },
        "id": "E7RQUJfRwJb3",
        "outputId": "55667ae7-55dd-425a-a9cc-c778f5ec6e55"
      },
      "outputs": [
        {
          "output_type": "stream",
          "name": "stdout",
          "text": [
            "Looking in indexes: https://pypi.org/simple, https://us-python.pkg.dev/colab-wheels/public/simple/\n",
            "Requirement already satisfied: kaggle in /usr/local/lib/python3.8/dist-packages (1.5.12)\n",
            "Requirement already satisfied: python-dateutil in /usr/local/lib/python3.8/dist-packages (from kaggle) (2.8.2)\n",
            "Requirement already satisfied: tqdm in /usr/local/lib/python3.8/dist-packages (from kaggle) (4.64.1)\n",
            "Requirement already satisfied: python-slugify in /usr/local/lib/python3.8/dist-packages (from kaggle) (7.0.0)\n",
            "Requirement already satisfied: urllib3 in /usr/local/lib/python3.8/dist-packages (from kaggle) (1.24.3)\n",
            "Requirement already satisfied: six>=1.10 in /usr/local/lib/python3.8/dist-packages (from kaggle) (1.15.0)\n",
            "Requirement already satisfied: requests in /usr/local/lib/python3.8/dist-packages (from kaggle) (2.23.0)\n",
            "Requirement already satisfied: certifi in /usr/local/lib/python3.8/dist-packages (from kaggle) (2022.9.24)\n",
            "Requirement already satisfied: text-unidecode>=1.3 in /usr/local/lib/python3.8/dist-packages (from python-slugify->kaggle) (1.3)\n",
            "Requirement already satisfied: chardet<4,>=3.0.2 in /usr/local/lib/python3.8/dist-packages (from requests->kaggle) (3.0.4)\n",
            "Requirement already satisfied: idna<3,>=2.5 in /usr/local/lib/python3.8/dist-packages (from requests->kaggle) (2.10)\n"
          ]
        }
      ],
      "source": [
        "!pip install kaggle"
      ]
    },
    {
      "cell_type": "code",
      "execution_count": null,
      "metadata": {
        "colab": {
          "base_uri": "https://localhost:8080/"
        },
        "id": "5Fikw9yX15R9",
        "outputId": "fc3139f1-6713-45f5-9d9c-aa5d86dd6793"
      },
      "outputs": [
        {
          "output_type": "stream",
          "name": "stdout",
          "text": [
            "Mounted at /content/drive\n"
          ]
        }
      ],
      "source": [
        "from google.colab import drive  #mounting the google drive\n",
        "drive.mount('/content/drive')"
      ]
    },
    {
      "cell_type": "code",
      "execution_count": null,
      "metadata": {
        "id": "x_cmxhokwmvn"
      },
      "outputs": [],
      "source": [
        "!mkdir /root/.kaggle  # creating a kaggle directory in the root folder, transfer the kaggle.json file in this folder "
      ]
    },
    {
      "cell_type": "code",
      "execution_count": null,
      "metadata": {
        "id": "Zj_Ty7NcwooT"
      },
      "outputs": [],
      "source": [
        "!cp /content/drive/MyDrive/kaggle.json /root/.kaggle/kaggle.json"
      ]
    },
    {
      "cell_type": "code",
      "execution_count": null,
      "metadata": {
        "id": "-0uHTktfws-j"
      },
      "outputs": [],
      "source": [
        "!chmod 600 /root/.kaggle/kaggle.json # set the permissions "
      ]
    },
    {
      "cell_type": "code",
      "execution_count": null,
      "metadata": {
        "id": "lh5qC4uyuybk",
        "colab": {
          "base_uri": "https://localhost:8080/"
        },
        "outputId": "80c6b88a-ded4-4a2e-b73b-64e9aba81798"
      },
      "outputs": [
        {
          "output_type": "stream",
          "name": "stdout",
          "text": [
            "mkdir: cannot create directory ‘/content/drive/MyDrive/datasets’: File exists\n"
          ]
        }
      ],
      "source": [
        "!mkdir /content/drive/MyDrive/datasets # create a directory to store all the datasets in the Google drive"
      ]
    },
    {
      "cell_type": "code",
      "execution_count": null,
      "metadata": {
        "colab": {
          "base_uri": "https://localhost:8080/"
        },
        "id": "rolnWFvqyVNg",
        "outputId": "8ff1a949-9659-4455-c28d-a65782296430"
      },
      "outputs": [
        {
          "output_type": "stream",
          "name": "stdout",
          "text": [
            "Downloading fruits.zip to /content\n",
            " 73% 959M/1.28G [00:04<00:01, 216MB/s]\n",
            "User cancelled operation\n"
          ]
        }
      ],
      "source": [
        "!kaggle datasets download moltean/fruits  #downloading the dataset from Kaggle "
      ]
    },
    {
      "cell_type": "code",
      "execution_count": null,
      "metadata": {
        "colab": {
          "base_uri": "https://localhost:8080/"
        },
        "id": "ODRHEDH44OHM",
        "outputId": "9d72f08b-4a8d-442a-ce9d-ea30317f2db7"
      },
      "outputs": [
        {
          "output_type": "stream",
          "name": "stdout",
          "text": [
            "Archive:  fruits.zip\n",
            "replace /content/drive/MyDrive/datasets/fruits360/fruits-360-original-size/fruits-360-original-size/Meta/apple_6/info.txt? [y]es, [n]o, [A]ll, [N]one, [r]ename: "
          ]
        }
      ],
      "source": [
        "!unzip fruits -d /content/drive/MyDrive/datasets/fruits360  # unzipping the folder dowloaded\n"
      ]
    },
    {
      "cell_type": "code",
      "execution_count": null,
      "metadata": {
        "colab": {
          "base_uri": "https://localhost:8080/"
        },
        "id": "rH5hXRRZr867",
        "outputId": "2b57f38b-89d0-4586-c126-0b719d67ec26"
      },
      "outputs": [
        {
          "output_type": "stream",
          "name": "stdout",
          "text": [
            "LICENSE  papers  readme.md  Test  test-multiple_fruits\tTraining\n"
          ]
        }
      ],
      "source": [
        "!ls /content/drive/MyDrive/datasets/fruits360/fruits-360_dataset/fruits-360  # exploring what's inside the folder "
      ]
    },
    {
      "cell_type": "code",
      "execution_count": null,
      "metadata": {
        "id": "YuPbHxdmRF74"
      },
      "outputs": [],
      "source": [
        "import tensorflow as tf\n",
        "from collections import Counter\n",
        "from tensorflow.keras.layers import Input, Lambda, Dense, Flatten\n",
        "from tensorflow.keras.models import Model\n",
        "from tensorflow.keras.applications.resnet50 import ResNet50, preprocess_input\n",
        "from tensorflow.keras.preprocessing import image\n",
        "from tensorflow.keras.preprocessing.image import ImageDataGenerator\n",
        "from sklearn.metrics import confusion_matrix\n",
        "import numpy as np\n",
        "import matplotlib.pyplot as plt\n",
        "\n",
        "from glob import glob\n",
        "import itertools\n",
        "import warnings\n",
        "warnings.filterwarnings(\"ignore\")"
      ]
    },
    {
      "cell_type": "code",
      "execution_count": null,
      "metadata": {
        "colab": {
          "base_uri": "https://localhost:8080/"
        },
        "id": "RNrdap4hJIqB",
        "outputId": "d06848ce-075f-47ad-9c1d-93e5c8b57849"
      },
      "outputs": [
        {
          "output_type": "execute_result",
          "data": {
            "text/plain": [
              "['Apple Braeburn',\n",
              " 'Apple Crimson Snow',\n",
              " 'Apple Golden 1',\n",
              " 'Apple Golden 2',\n",
              " 'Apple Golden 3',\n",
              " 'Apple Granny Smith',\n",
              " 'Apple Pink Lady',\n",
              " 'Apple Red 1',\n",
              " 'Apple Red 2',\n",
              " 'Apple Red 3',\n",
              " 'Apple Red Delicious',\n",
              " 'Apple Red Yellow 1',\n",
              " 'Apple Red Yellow 2',\n",
              " 'Apricot',\n",
              " 'Avocado ripe',\n",
              " 'Banana Lady Finger',\n",
              " 'Banana Red',\n",
              " 'Banana',\n",
              " 'Beetroot',\n",
              " 'Blueberry',\n",
              " 'Cactus fruit',\n",
              " 'Cantaloupe 1',\n",
              " 'Cantaloupe 2',\n",
              " 'Carambula',\n",
              " 'Cauliflower',\n",
              " 'Cherry 1',\n",
              " 'Cherry Rainier',\n",
              " 'Cherry Wax Black',\n",
              " 'Cherry Wax Red',\n",
              " 'Cherry Wax Yellow',\n",
              " 'Chestnut',\n",
              " 'Clementine',\n",
              " 'Cocos',\n",
              " 'Corn Husk',\n",
              " 'Corn',\n",
              " 'Cucumber Ripe 2',\n",
              " 'Cucumber Ripe',\n",
              " 'Dates',\n",
              " 'Eggplant',\n",
              " 'Ginger Root',\n",
              " 'Granadilla',\n",
              " 'Grape Blue',\n",
              " 'Grape Pink',\n",
              " 'Grape White 2',\n",
              " 'Grape White 3',\n",
              " 'Grape White 4',\n",
              " 'Grape White',\n",
              " 'Grapefruit Pink',\n",
              " 'Grapefruit White',\n",
              " 'Guava',\n",
              " 'Hazelnut',\n",
              " 'Huckleberry',\n",
              " 'Kaki',\n",
              " 'Kiwi',\n",
              " 'Kohlrabi',\n",
              " 'Kumquats',\n",
              " 'Lemon Meyer',\n",
              " 'Lemon',\n",
              " 'Limes',\n",
              " 'Lychee',\n",
              " 'Mandarine',\n",
              " 'Mango Red',\n",
              " 'Mango',\n",
              " 'Mangostan',\n",
              " 'Maracuja',\n",
              " 'Melon Piel de Sapo',\n",
              " 'Mulberry',\n",
              " 'Nectarine Flat',\n",
              " 'Nectarine',\n",
              " 'Nut Forest',\n",
              " 'Nut Pecan',\n",
              " 'Onion Red Peeled',\n",
              " 'Onion Red',\n",
              " 'Onion White',\n",
              " 'Orange',\n",
              " 'Papaya',\n",
              " 'Passion Fruit',\n",
              " 'Peach 2',\n",
              " 'Peach Flat',\n",
              " 'Peach',\n",
              " 'Pear 2',\n",
              " 'Pear Abate',\n",
              " 'Pear Forelle',\n",
              " 'Pear Kaiser',\n",
              " 'Pear Monster',\n",
              " 'Pear Red',\n",
              " 'Pear Stone',\n",
              " 'Pear Williams',\n",
              " 'Pear',\n",
              " 'Pepino',\n",
              " 'Pepper Green',\n",
              " 'Pepper Orange',\n",
              " 'Pepper Red',\n",
              " 'Pepper Yellow',\n",
              " 'Physalis with Husk',\n",
              " 'Physalis',\n",
              " 'Pineapple Mini',\n",
              " 'Pineapple',\n",
              " 'Pitahaya Red',\n",
              " 'Plum 2',\n",
              " 'Plum 3',\n",
              " 'Plum',\n",
              " 'Pomegranate',\n",
              " 'Pomelo Sweetie',\n",
              " 'Potato Red Washed',\n",
              " 'Potato Red',\n",
              " 'Potato Sweet',\n",
              " 'Potato White',\n",
              " 'Quince',\n",
              " 'Rambutan',\n",
              " 'Raspberry',\n",
              " 'Redcurrant',\n",
              " 'Salak',\n",
              " 'Strawberry Wedge',\n",
              " 'Strawberry',\n",
              " 'Tamarillo',\n",
              " 'Tangelo',\n",
              " 'Tomato 3',\n",
              " 'Tomato 4',\n",
              " 'Tomato Cherry Red',\n",
              " 'Tomato Heart',\n",
              " 'Tomato Maroon',\n",
              " 'Tomato Yellow',\n",
              " 'Tomato not Ripened',\n",
              " 'Walnut',\n",
              " 'Watermelon',\n",
              " 'Training2']"
            ]
          },
          "metadata": {},
          "execution_count": 9
        }
      ],
      "source": [
        "import os\n",
        "os.listdir('/content/drive/MyDrive/datasets/fruits360/fruits-360_dataset/fruits-360/Training') # checking the training folder"
      ]
    },
    {
      "cell_type": "code",
      "source": [
        "os.listdir('/content/drive/MyDrive/datasets/fruits360/fruits-360_dataset/fruits-360/Test')  #checking the test folder"
      ],
      "metadata": {
        "colab": {
          "base_uri": "https://localhost:8080/"
        },
        "id": "VVldFHCkEIQ7",
        "outputId": "db5154cf-51f4-431a-8224-0c6d86ace93a"
      },
      "execution_count": null,
      "outputs": [
        {
          "output_type": "execute_result",
          "data": {
            "text/plain": [
              "['Apple Braeburn',\n",
              " 'Apple Crimson Snow',\n",
              " 'Apple Golden 1',\n",
              " 'Apple Golden 2',\n",
              " 'Apple Golden 3',\n",
              " 'Apple Granny Smith',\n",
              " 'Apple Pink Lady',\n",
              " 'Apple Red 1',\n",
              " 'Apple Red 2',\n",
              " 'Apple Red 3',\n",
              " 'Apple Red Delicious',\n",
              " 'Apple Red Yellow 1',\n",
              " 'Apple Red Yellow 2',\n",
              " 'Apricot',\n",
              " 'Avocado ripe',\n",
              " 'Banana Lady Finger',\n",
              " 'Banana Red',\n",
              " 'Banana',\n",
              " 'Beetroot',\n",
              " 'Blueberry',\n",
              " 'Cactus fruit',\n",
              " 'Cantaloupe 1',\n",
              " 'Cantaloupe 2',\n",
              " 'Carambula',\n",
              " 'Cauliflower',\n",
              " 'Cherry 1',\n",
              " 'Cherry Rainier',\n",
              " 'Cherry Wax Black',\n",
              " 'Cherry Wax Red',\n",
              " 'Cherry Wax Yellow',\n",
              " 'Chestnut',\n",
              " 'Clementine',\n",
              " 'Cocos',\n",
              " 'Corn Husk',\n",
              " 'Corn',\n",
              " 'Cucumber Ripe 2',\n",
              " 'Cucumber Ripe',\n",
              " 'Dates',\n",
              " 'Eggplant',\n",
              " 'Ginger Root',\n",
              " 'Granadilla',\n",
              " 'Grape Blue',\n",
              " 'Grape Pink',\n",
              " 'Grape White 2',\n",
              " 'Grape White 3',\n",
              " 'Grape White 4',\n",
              " 'Grape White',\n",
              " 'Grapefruit Pink',\n",
              " 'Grapefruit White',\n",
              " 'Guava',\n",
              " 'Hazelnut',\n",
              " 'Huckleberry',\n",
              " 'Kaki',\n",
              " 'Kiwi',\n",
              " 'Kohlrabi',\n",
              " 'Kumquats',\n",
              " 'Lemon Meyer',\n",
              " 'Lemon',\n",
              " 'Limes',\n",
              " 'Lychee',\n",
              " 'Mandarine',\n",
              " 'Mango Red',\n",
              " 'Mango',\n",
              " 'Mangostan',\n",
              " 'Maracuja',\n",
              " 'Melon Piel de Sapo',\n",
              " 'Mulberry',\n",
              " 'Nectarine Flat',\n",
              " 'Nectarine',\n",
              " 'Nut Forest',\n",
              " 'Nut Pecan',\n",
              " 'Onion Red Peeled',\n",
              " 'Onion Red',\n",
              " 'Onion White',\n",
              " 'Orange',\n",
              " 'Papaya',\n",
              " 'Passion Fruit',\n",
              " 'Peach 2',\n",
              " 'Peach Flat',\n",
              " 'Peach',\n",
              " 'Pear 2',\n",
              " 'Pear Abate',\n",
              " 'Pear Forelle',\n",
              " 'Pear Kaiser',\n",
              " 'Pear Monster',\n",
              " 'Pear Red',\n",
              " 'Pear Stone',\n",
              " 'Pear Williams',\n",
              " 'Pear',\n",
              " 'Pepino',\n",
              " 'Pepper Green',\n",
              " 'Pepper Orange',\n",
              " 'Pepper Red',\n",
              " 'Pepper Yellow',\n",
              " 'Physalis with Husk',\n",
              " 'Physalis',\n",
              " 'Pineapple Mini',\n",
              " 'Pineapple',\n",
              " 'Pitahaya Red',\n",
              " 'Plum 2',\n",
              " 'Plum 3',\n",
              " 'Plum',\n",
              " 'Pomegranate',\n",
              " 'Pomelo Sweetie',\n",
              " 'Potato Red Washed',\n",
              " 'Potato Red',\n",
              " 'Potato Sweet',\n",
              " 'Potato White',\n",
              " 'Quince',\n",
              " 'Rambutan',\n",
              " 'Raspberry',\n",
              " 'Redcurrant',\n",
              " 'Salak',\n",
              " 'Strawberry Wedge',\n",
              " 'Strawberry',\n",
              " 'Tamarillo',\n",
              " 'Tangelo',\n",
              " 'Tomato 3',\n",
              " 'Tomato 4',\n",
              " 'Tomato Cherry Red',\n",
              " 'Tomato Heart',\n",
              " 'Tomato Maroon',\n",
              " 'Tomato Yellow',\n",
              " 'Tomato not Ripened',\n",
              " 'Walnut',\n",
              " 'Watermelon',\n",
              " 'Test2']"
            ]
          },
          "metadata": {},
          "execution_count": 10
        }
      ]
    },
    {
      "cell_type": "code",
      "execution_count": null,
      "metadata": {
        "id": "tijc7hIUKibu"
      },
      "outputs": [],
      "source": [
        "#Setting Training & Test dir paths\n",
        "train_path_initial = '/content/drive/MyDrive/datasets/fruits360/fruits-360_dataset/fruits-360/Training/' \n",
        "\n",
        "valid_path_initial = '/content/drive/MyDrive/datasets/fruits360/fruits-360_dataset/fruits-360/Test/'\n"
      ]
    },
    {
      "cell_type": "code",
      "source": [
        "# calculating the top 20 classes \n",
        "\n",
        "classes = []\n",
        "fruit_item = []\n",
        "for i in os.listdir(train_path_initial):\n",
        "  for image_filename in os.listdir(train_path_initial+i):\n",
        "    classes.append(i)\n",
        "    fruit_item.append(i+'/'+ image_filename)\n",
        "\n",
        "count = Counter(classes)\n",
        "most_frequent = count.most_common(20)\n",
        "print(\"Top 20 frequent Fruits:\")\n",
        "most_frequent"
      ],
      "metadata": {
        "colab": {
          "base_uri": "https://localhost:8080/"
        },
        "id": "A5EoTR7eiIeD",
        "outputId": "8ae1ca10-7946-4bbe-f9a2-7d7027c10dee"
      },
      "execution_count": null,
      "outputs": [
        {
          "output_type": "stream",
          "name": "stdout",
          "text": [
            "Top 20 frequent Fruits:\n"
          ]
        },
        {
          "output_type": "execute_result",
          "data": {
            "text/plain": [
              "[('Grape Blue', 984),\n",
              " ('Plum 3', 900),\n",
              " ('Cherry Rainier', 738),\n",
              " ('Melon Piel de Sapo', 738),\n",
              " ('Peach 2', 738),\n",
              " ('Strawberry Wedge', 738),\n",
              " ('Pear Stone', 711),\n",
              " ('Cauliflower', 702),\n",
              " ('Pear Forelle', 702),\n",
              " ('Pepper Orange', 702),\n",
              " ('Pear 2', 696),\n",
              " ('Apple Red Yellow 2', 672),\n",
              " ('Pear Red', 666),\n",
              " ('Pepper Red', 666),\n",
              " ('Pepper Yellow', 666),\n",
              " ('Nut Forest', 654),\n",
              " ('Nut Pecan', 534),\n",
              " ('Pineapple Mini', 493),\n",
              " ('Apple Braeburn', 492),\n",
              " ('Apple Golden 2', 492)]"
            ]
          },
          "metadata": {},
          "execution_count": 13
        }
      ]
    },
    {
      "cell_type": "code",
      "execution_count": null,
      "metadata": {
        "id": "oRO7644lKxVS"
      },
      "outputs": [],
      "source": [
        "# re-size all the images to this\n",
        "IMAGE_SIZE = [100, 100]\n",
        "\n",
        "# training config:\n",
        "epochs = 10\n",
        "batch_size = 32"
      ]
    },
    {
      "cell_type": "code",
      "source": [
        "# setting new reduced training and test paths\n",
        "train_path = '/content/drive/MyDrive/datasets/fruits360/fruits-360_dataset/fruits-360/Training/Training2/' \n",
        "valid_path = '/content/drive/MyDrive/datasets/fruits360/fruits-360_dataset/fruits-360/Test/Test2/'"
      ],
      "metadata": {
        "id": "11qNKzZgUFqD"
      },
      "execution_count": null,
      "outputs": []
    },
    {
      "cell_type": "code",
      "source": [
        "os.listdir('/content/drive/MyDrive/datasets/fruits360/fruits-360_dataset/fruits-360/Training/Training2')  "
      ],
      "metadata": {
        "colab": {
          "base_uri": "https://localhost:8080/"
        },
        "id": "573-PwsUYeBO",
        "outputId": "7716ce37-735e-4299-9911-de557657d83c"
      },
      "execution_count": null,
      "outputs": [
        {
          "output_type": "execute_result",
          "data": {
            "text/plain": [
              "['Avocado', 'Cherry 2', 'Fig', 'Tomato 1', 'Tomato 2']"
            ]
          },
          "metadata": {},
          "execution_count": 16
        }
      ]
    },
    {
      "cell_type": "code",
      "source": [
        "os.listdir('/content/drive/MyDrive/datasets/fruits360/fruits-360_dataset/fruits-360/Test/Test2')"
      ],
      "metadata": {
        "colab": {
          "base_uri": "https://localhost:8080/"
        },
        "id": "bCIsqsrTTRTa",
        "outputId": "e5a6bcdb-ccd1-4bc5-92b6-c5cbbd1defac"
      },
      "execution_count": null,
      "outputs": [
        {
          "output_type": "execute_result",
          "data": {
            "text/plain": [
              "['Avocado', 'Cherry 2', 'Fig', 'Tomato 1', 'Tomato 2']"
            ]
          },
          "metadata": {},
          "execution_count": 17
        }
      ]
    },
    {
      "cell_type": "code",
      "execution_count": null,
      "metadata": {
        "id": "BVrlu78Qoaak"
      },
      "outputs": [],
      "source": [
        "# getting number of files\n",
        "image_files = glob(train_path + '/*/*.jp*g')\n",
        "valid_image_files = glob(valid_path + '/*/*.jp*g')"
      ]
    },
    {
      "cell_type": "code",
      "execution_count": null,
      "metadata": {
        "id": "B26sXtr2RPmy"
      },
      "outputs": [],
      "source": [
        "folders = glob(train_path + '/*')"
      ]
    },
    {
      "cell_type": "code",
      "execution_count": null,
      "metadata": {
        "colab": {
          "base_uri": "https://localhost:8080/",
          "height": 268
        },
        "id": "vww1urUKfsZt",
        "outputId": "fbceb911-cb69-4c7e-aa7f-29e3c2ca27e0"
      },
      "outputs": [
        {
          "output_type": "display_data",
          "data": {
            "text/plain": [
              "<Figure size 432x288 with 1 Axes>"
            ],
            "image/png": "[encoded data removed]"
          },
          "metadata": {
            "needs_background": "light"
          }
        }
      ],
      "source": [
        "# look at a random image\n",
        "plt.imshow(image.load_img(np.random.choice(image_files)));"
      ]
    },
    {
      "cell_type": "code",
      "execution_count": null,
      "metadata": {
        "id": "wvC5PZCDnzXP"
      },
      "outputs": [],
      "source": [
        "# Data Augmentation of ImageDataGenerator\n",
        "\n",
        "train_gen = ImageDataGenerator(\n",
        "  rotation_range= 40,\n",
        "  width_shift_range=0.5,\n",
        "  height_shift_range=0.1,\n",
        "  shear_range=0.2,\n",
        "  zoom_range=0.1,\n",
        "  horizontal_flip=True,\n",
        "  vertical_flip=True,\n",
        "  preprocessing_function=preprocess_input)\n",
        "\n",
        "val_gen = ImageDataGenerator(\n",
        "  preprocessing_function=preprocess_input\n",
        ")"
      ]
    },
    {
      "cell_type": "code",
      "execution_count": null,
      "metadata": {
        "colab": {
          "base_uri": "https://localhost:8080/"
        },
        "id": "ILwY6FsH_Dev",
        "outputId": "6d6dccdd-572d-432a-8ce8-1b7b9e268807"
      },
      "outputs": [
        {
          "output_type": "stream",
          "name": "stdout",
          "text": [
            "Found 3211 images belonging to 5 classes.\n",
            "Found 1094 images belonging to 5 classes.\n"
          ]
        }
      ],
      "source": [
        "# creating generators\n",
        "train_generator = train_gen.flow_from_directory(\n",
        "  train_path,\n",
        "  target_size=IMAGE_SIZE,\n",
        "  shuffle=True,\n",
        "  batch_size=batch_size,\n",
        "  class_mode='sparse',\n",
        ")\n",
        "valid_generator = val_gen.flow_from_directory(\n",
        "  valid_path,\n",
        "  target_size=IMAGE_SIZE,\n",
        "  shuffle=False,\n",
        "  batch_size=batch_size,\n",
        "  class_mode='sparse',\n",
        ")"
      ]
    },
    {
      "cell_type": "code",
      "execution_count": null,
      "metadata": {
        "colab": {
          "base_uri": "https://localhost:8080/"
        },
        "id": "hx36RtQHzC2P",
        "outputId": "292a2dcf-2f2e-4b88-bb5f-10587a713f84"
      },
      "outputs": [
        {
          "output_type": "stream",
          "name": "stdout",
          "text": [
            "Downloading data from https://storage.googleapis.com/tensorflow/keras-applications/resnet/resnet50_weights_tf_dim_ordering_tf_kernels_notop.h5\n",
            "94765736/94765736 [==============================] - 1s 0us/step\n",
            "Model: \"sequential\"\n",
            "_________________________________________________________________\n",
            " Layer (type)                Output Shape              Param #   \n",
            "=================================================================\n",
            " resnet50 (Functional)       (None, 4, 4, 2048)        23587712  \n",
            "                                                                 \n",
            " flatten (Flatten)           (None, 32768)             0         \n",
            "                                                                 \n",
            " dense (Dense)               (None, 64)                2097216   \n",
            "                                                                 \n",
            " dropout (Dropout)           (None, 64)                0         \n",
            "                                                                 \n",
            " dense_1 (Dense)             (None, 131)               8515      \n",
            "                                                                 \n",
            "=================================================================\n",
            "Total params: 25,693,443\n",
            "Trainable params: 2,105,731\n",
            "Non-trainable params: 23,587,712\n",
            "_________________________________________________________________\n"
          ]
        }
      ],
      "source": [
        "# Uploading ResNet50 and then applying some output layers\n",
        "pretrained_model= tf.keras.applications.ResNet50(include_top=False,\n",
        "                   input_shape=(100, 100, 3),\n",
        "                   weights='imagenet')\n",
        "\n",
        "for layer in pretrained_model.layers:\n",
        "        layer.trainable=False\n",
        "\n",
        "model = tf.keras.models.Sequential([    \n",
        "    pretrained_model,\n",
        "    tf.keras.layers.Flatten(),\n",
        "    tf.keras.layers.Dense(64, activation='relu'),\n",
        "    tf.keras.layers.Dropout(0.25),\n",
        "    tf.keras.layers.Dense(131,activation='softmax')\n",
        "])\n",
        "model.summary()"
      ]
    },
    {
      "cell_type": "code",
      "execution_count": null,
      "metadata": {
        "id": "MJiBsxmi2Vhx"
      },
      "outputs": [],
      "source": [
        "# tell the model what cost and optimization method to use\n",
        "model.compile(\n",
        "  loss='sparse_categorical_crossentropy',\n",
        "  optimizer='adam',\n",
        "  metrics=['accuracy'])"
      ]
    },
    {
      "cell_type": "code",
      "execution_count": null,
      "metadata": {
        "colab": {
          "base_uri": "https://localhost:8080/"
        },
        "id": "dMMDRqjR_RBx",
        "outputId": "c8d6d775-203a-4ad9-f010-94c6bebc69c2"
      },
      "outputs": [
        {
          "output_type": "stream",
          "name": "stdout",
          "text": [
            "Epoch 1/10\n",
            "100/100 [==============================] - 1153s 12s/step - loss: 0.5020 - accuracy: 0.8953 - val_loss: 0.0077 - val_accuracy: 1.0000\n",
            "Epoch 2/10\n",
            "100/100 [==============================] - 199s 2s/step - loss: 0.1445 - accuracy: 0.9623 - val_loss: 5.7669e-04 - val_accuracy: 1.0000\n",
            "Epoch 3/10\n",
            "100/100 [==============================] - 204s 2s/step - loss: 0.1066 - accuracy: 0.9726 - val_loss: 0.0011 - val_accuracy: 1.0000\n",
            "Epoch 4/10\n",
            "100/100 [==============================] - 207s 2s/step - loss: 0.1039 - accuracy: 0.9714 - val_loss: 0.0088 - val_accuracy: 0.9954\n",
            "Epoch 5/10\n",
            "100/100 [==============================] - 205s 2s/step - loss: 0.0564 - accuracy: 0.9846 - val_loss: 1.4298e-07 - val_accuracy: 1.0000\n",
            "Epoch 6/10\n",
            "100/100 [==============================] - 201s 2s/step - loss: 0.0558 - accuracy: 0.9821 - val_loss: 6.4169e-06 - val_accuracy: 1.0000\n",
            "Epoch 7/10\n",
            "100/100 [==============================] - 204s 2s/step - loss: 0.0447 - accuracy: 0.9893 - val_loss: 0.0288 - val_accuracy: 0.9899\n",
            "Epoch 8/10\n",
            "100/100 [==============================] - 197s 2s/step - loss: 0.0443 - accuracy: 0.9896 - val_loss: 0.0211 - val_accuracy: 0.9908\n",
            "Epoch 9/10\n",
            "100/100 [==============================] - 194s 2s/step - loss: 0.0604 - accuracy: 0.9868 - val_loss: 5.2725e-04 - val_accuracy: 1.0000\n",
            "Epoch 10/10\n",
            "100/100 [==============================] - 202s 2s/step - loss: 0.0443 - accuracy: 0.9877 - val_loss: 5.2573e-04 - val_accuracy: 1.0000\n"
          ]
        }
      ],
      "source": [
        "# defining a callback function to stop the model \n",
        "class myCallback(tf.keras.callbacks.Callback):\n",
        "  def on_epoch_end(self,epoch,logs={}):\n",
        "    if(logs['accuracy']>=0.99):\n",
        "      self.model.stop_training=True\n",
        "\n",
        "callbacks=myCallback()\n",
        "\n",
        "# fitting the model\n",
        "hist = model.fit(\n",
        "  train_generator,\n",
        "  validation_data=valid_generator,\n",
        "  epochs=epochs,\n",
        "  steps_per_epoch=len(image_files) // batch_size,\n",
        "  validation_steps=len(valid_image_files) // batch_size,\n",
        "  callbacks = [callbacks],\n",
        ")"
      ]
    },
    {
      "cell_type": "code",
      "source": [
        "#accuracy plot\n",
        "plt.plot(hist.history['accuracy'], label='train accuracy')\n",
        "plt.plot(hist.history['val_accuracy'], label='val accuracy')\n",
        "plt.axis(ymin=0.4,ymax=1.05)\n",
        "plt.grid()\n",
        "plt.title('ResNet50 Accuracy')\n",
        "plt.ylabel('Accuracy')\n",
        "plt.xlabel('Epochs')\n",
        "plt.legend(['train', 'validation'])\n",
        "plt.show()\n"
      ],
      "metadata": {
        "colab": {
          "base_uri": "https://localhost:8080/",
          "height": 295
        },
        "id": "EM7fGsjrd2Yb",
        "outputId": "a9b2d9ee-7ad0-4b5b-e70d-ba3dd035b287"
      },
      "execution_count": null,
      "outputs": [
        {
          "output_type": "display_data",
          "data": {
            "text/plain": [
              "<Figure size 432x288 with 1 Axes>"
            ],
            "image/png": "[encoded data removed]"
          },
          "metadata": {
            "needs_background": "light"
          }
        }
      ]
    },
    {
      "cell_type": "code",
      "execution_count": null,
      "metadata": {
        "id": "B8i4kFQaAFLc",
        "colab": {
          "base_uri": "https://localhost:8080/",
          "height": 295
        },
        "outputId": "8815a52d-2cc3-48ef-a1ef-600f0725d6bb"
      },
      "outputs": [
        {
          "output_type": "display_data",
          "data": {
            "text/plain": [
              "<Figure size 432x288 with 1 Axes>"
            ],
            "image/png": "[encoded data removed]"
          },
          "metadata": {
            "needs_background": "light"
          }
        }
      ],
      "source": [
        "# loss plot\n",
        "plt.plot(hist.history['loss'], label='train loss')\n",
        "plt.plot(hist.history['val_loss'], label='val loss')\n",
        "plt.axis(ymin=0,ymax=1)\n",
        "plt.grid()\n",
        "plt.title('ResNet50 Loss')\n",
        "plt.ylabel('Loss')\n",
        "plt.xlabel('Epochs')\n",
        "plt.legend(['train', 'validation'])\n",
        "plt.show()"
      ]
    },
    {
      "cell_type": "code",
      "execution_count": null,
      "metadata": {
        "id": "OGnFL-BEIEUy",
        "colab": {
          "base_uri": "https://localhost:8080/"
        },
        "outputId": "46745470-4833-411b-a919-4297f9f46f80"
      },
      "outputs": [
        {
          "output_type": "stream",
          "name": "stderr",
          "text": [
            "WARNING:absl:Found untraced functions such as _jit_compiled_convolution_op, _jit_compiled_convolution_op, _jit_compiled_convolution_op, _jit_compiled_convolution_op, _jit_compiled_convolution_op while saving (showing 5 of 53). These functions will not be directly callable after loading.\n"
          ]
        }
      ],
      "source": [
        "model.save('fruits-360_dataset/fruits-360')"
      ]
    },
    {
      "cell_type": "code",
      "execution_count": null,
      "metadata": {
        "id": "qaCdli6piBoI",
        "colab": {
          "base_uri": "https://localhost:8080/"
        },
        "outputId": "72c25469-03c5-4774-f8b3-973be896ba3a"
      },
      "outputs": [
        {
          "output_type": "stream",
          "name": "stdout",
          "text": [
            "35/35 [==============================] - 49s 1s/step - loss: 5.2285e-04 - accuracy: 1.0000\n"
          ]
        }
      ],
      "source": [
        "model.evaluate(valid_generator)"
      ]
    },
    {
      "cell_type": "code",
      "execution_count": null,
      "metadata": {
        "id": "dJZfgkZ3OJ_u"
      },
      "outputs": [],
      "source": [
        "from tensorflow import keras\n",
        "model = keras.models.load_model('fruits-360_dataset/fruits-360')"
      ]
    }
  ],
  "metadata": {
    "colab": {
      "provenance": []
    },
    "gpuClass": "premium",
    "kernelspec": {
      "display_name": "Python 3",
      "name": "python3"
    },
    "language_info": {
      "name": "python"
    }
  },
  "nbformat": 4,
  "nbformat_minor": 0
}
