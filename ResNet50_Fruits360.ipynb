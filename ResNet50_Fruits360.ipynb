{
  "cells": [
    {
      "cell_type": "code",
      "execution_count": null,
      "metadata": {
        "colab": {
          "base_uri": "https://localhost:8080/"
        },
        "id": "E7RQUJfRwJb3",
        "outputId": "df925114-27e6-4aae-c53e-60fcc442c99c"
      },
      "outputs": [
        {
          "output_type": "stream",
          "name": "stdout",
          "text": [
            "Looking in indexes: https://pypi.org/simple, https://us-python.pkg.dev/colab-wheels/public/simple/\n",
            "Requirement already satisfied: kaggle in /usr/local/lib/python3.8/dist-packages (1.5.12)\n",
            "Requirement already satisfied: six>=1.10 in /usr/local/lib/python3.8/dist-packages (from kaggle) (1.15.0)\n",
            "Requirement already satisfied: python-slugify in /usr/local/lib/python3.8/dist-packages (from kaggle) (7.0.0)\n",
            "Requirement already satisfied: requests in /usr/local/lib/python3.8/dist-packages (from kaggle) (2.23.0)\n",
            "Requirement already satisfied: python-dateutil in /usr/local/lib/python3.8/dist-packages (from kaggle) (2.8.2)\n",
            "Requirement already satisfied: tqdm in /usr/local/lib/python3.8/dist-packages (from kaggle) (4.64.1)\n",
            "Requirement already satisfied: certifi in /usr/local/lib/python3.8/dist-packages (from kaggle) (2022.9.24)\n",
            "Requirement already satisfied: urllib3 in /usr/local/lib/python3.8/dist-packages (from kaggle) (1.24.3)\n",
            "Requirement already satisfied: text-unidecode>=1.3 in /usr/local/lib/python3.8/dist-packages (from python-slugify->kaggle) (1.3)\n",
            "Requirement already satisfied: idna<3,>=2.5 in /usr/local/lib/python3.8/dist-packages (from requests->kaggle) (2.10)\n",
            "Requirement already satisfied: chardet<4,>=3.0.2 in /usr/local/lib/python3.8/dist-packages (from requests->kaggle) (3.0.4)\n"
          ]
        }
      ],
      "source": [
        "!pip install kaggle"
      ]
    },
    {
      "cell_type": "code",
      "execution_count": null,
      "metadata": {
        "colab": {
          "base_uri": "https://localhost:8080/"
        },
        "id": "5Fikw9yX15R9",
        "outputId": "1c4902c6-fe63-452e-b1c2-efb6afce49fc"
      },
      "outputs": [
        {
          "output_type": "stream",
          "name": "stdout",
          "text": [
            "Mounted at /content/drive\n"
          ]
        }
      ],
      "source": [
        "from google.colab import drive  #mounting the google drive\n",
        "drive.mount('/content/drive')"
      ]
    },
    {
      "cell_type": "code",
      "execution_count": null,
      "metadata": {
        "id": "x_cmxhokwmvn"
      },
      "outputs": [],
      "source": [
        "!mkdir /root/.kaggle  # creating a kaggle directory in the root folder, transfer the kaggle.json file in this folder "
      ]
    },
    {
      "cell_type": "code",
      "execution_count": null,
      "metadata": {
        "id": "Zj_Ty7NcwooT"
      },
      "outputs": [],
      "source": [
        "!cp /content/drive/MyDrive/kaggle.json /root/.kaggle/kaggle.json"
      ]
    },
    {
      "cell_type": "code",
      "execution_count": null,
      "metadata": {
        "id": "-0uHTktfws-j"
      },
      "outputs": [],
      "source": [
        "!chmod 600 /root/.kaggle/kaggle.json # set the permissions "
      ]
    },
    {
      "cell_type": "code",
      "execution_count": null,
      "metadata": {
        "id": "lh5qC4uyuybk",
        "colab": {
          "base_uri": "https://localhost:8080/"
        },
        "outputId": "e2caf36d-8c66-4b7e-9dba-73a8c0d53421"
      },
      "outputs": [
        {
          "output_type": "stream",
          "name": "stdout",
          "text": [
            "mkdir: cannot create directory ‘/content/drive/MyDrive/datasets’: File exists\n"
          ]
        }
      ],
      "source": [
        "!mkdir /content/drive/MyDrive/datasets # create a directory to store all the datasets in the Google drive"
      ]
    },
    {
      "cell_type": "code",
      "execution_count": null,
      "metadata": {
        "colab": {
          "base_uri": "https://localhost:8080/"
        },
        "id": "rolnWFvqyVNg",
        "outputId": "8c1d5a24-41b7-4b1b-b2aa-d9ba9d311574"
      },
      "outputs": [
        {
          "output_type": "stream",
          "name": "stdout",
          "text": [
            "Downloading fruits.zip to /content\n",
            "100% 1.28G/1.28G [00:11<00:00, 98.8MB/s]\n",
            "100% 1.28G/1.28G [00:11<00:00, 125MB/s] \n"
          ]
        }
      ],
      "source": [
        "!kaggle datasets download moltean/fruits  #downloading the dataset from Kaggle "
      ]
    },
    {
      "cell_type": "code",
      "execution_count": null,
      "metadata": {
        "colab": {
          "base_uri": "https://localhost:8080/"
        },
        "id": "ODRHEDH44OHM",
        "outputId": "dea82da2-f80f-44dc-e025-c6c87db6f72f"
      },
      "outputs": [
        {
          "output_type": "stream",
          "name": "stdout",
          "text": [
            "Archive:  fruits.zip\n",
            "replace /content/drive/MyDrive/datasets/fruits360/fruits-360-original-size/fruits-360-original-size/Meta/apple_6/info.txt? [y]es, [n]o, [A]ll, [N]one, [r]ename: "
          ]
        }
      ],
      "source": [
        "!unzip fruits -d /content/drive/MyDrive/datasets/fruits360  # unzipping the folder dowloaded\n"
      ]
    },
    {
      "cell_type": "code",
      "execution_count": null,
      "metadata": {
        "colab": {
          "base_uri": "https://localhost:8080/"
        },
        "id": "rH5hXRRZr867",
        "outputId": "4c60a954-23a1-4a80-ceae-3f93855db54c"
      },
      "outputs": [
        {
          "output_type": "stream",
          "name": "stdout",
          "text": [
            "LICENSE  papers  readme.md  Test  test-multiple_fruits\tTraining\n"
          ]
        }
      ],
      "source": [
        "!ls /content/drive/MyDrive/datasets/fruits360/fruits-360_dataset/fruits-360  # exploring what's inside the folder "
      ]
    },
    {
      "cell_type": "code",
      "execution_count": null,
      "metadata": {
        "id": "YuPbHxdmRF74"
      },
      "outputs": [],
      "source": [
        "import tensorflow as tf\n",
        "from collections import Counter\n",
        "from tensorflow.keras.layers import Input, Lambda, Dense, Flatten\n",
        "from tensorflow.keras.models import Model\n",
        "from tensorflow.keras.applications.resnet50 import ResNet50, preprocess_input\n",
        "from tensorflow.keras.preprocessing import image\n",
        "from tensorflow.keras.preprocessing.image import ImageDataGenerator\n",
        "from sklearn.metrics import confusion_matrix\n",
        "import numpy as np\n",
        "import matplotlib.pyplot as plt\n",
        "\n",
        "from glob import glob\n",
        "import itertools\n",
        "import warnings\n",
        "warnings.filterwarnings(\"ignore\")"
      ]
    },
    {
      "cell_type": "code",
      "execution_count": null,
      "metadata": {
        "colab": {
          "base_uri": "https://localhost:8080/"
        },
        "id": "RNrdap4hJIqB",
        "outputId": "e0bd3ea5-346e-4c8c-f53c-3a94649b4be5"
      },
      "outputs": [
        {
          "output_type": "execute_result",
          "data": {
            "text/plain": [
              "['Apple Braeburn',\n",
              " 'Apple Crimson Snow',\n",
              " 'Apple Golden 1',\n",
              " 'Apple Golden 2',\n",
              " 'Apple Golden 3',\n",
              " 'Apple Granny Smith',\n",
              " 'Apple Pink Lady',\n",
              " 'Apple Red 1',\n",
              " 'Apple Red 2',\n",
              " 'Apple Red 3',\n",
              " 'Apple Red Delicious',\n",
              " 'Apple Red Yellow 1',\n",
              " 'Apple Red Yellow 2',\n",
              " 'Apricot',\n",
              " 'Avocado ripe',\n",
              " 'Banana Lady Finger',\n",
              " 'Banana Red',\n",
              " 'Banana',\n",
              " 'Beetroot',\n",
              " 'Blueberry',\n",
              " 'Cactus fruit',\n",
              " 'Cantaloupe 1',\n",
              " 'Cantaloupe 2',\n",
              " 'Carambula',\n",
              " 'Cauliflower',\n",
              " 'Cherry 1',\n",
              " 'Cherry Rainier',\n",
              " 'Cherry Wax Black',\n",
              " 'Cherry Wax Red',\n",
              " 'Cherry Wax Yellow',\n",
              " 'Chestnut',\n",
              " 'Clementine',\n",
              " 'Cocos',\n",
              " 'Corn Husk',\n",
              " 'Corn',\n",
              " 'Cucumber Ripe 2',\n",
              " 'Cucumber Ripe',\n",
              " 'Dates',\n",
              " 'Eggplant',\n",
              " 'Ginger Root',\n",
              " 'Granadilla',\n",
              " 'Grape Blue',\n",
              " 'Grape Pink',\n",
              " 'Grape White 2',\n",
              " 'Grape White 3',\n",
              " 'Grape White 4',\n",
              " 'Grape White',\n",
              " 'Grapefruit Pink',\n",
              " 'Grapefruit White',\n",
              " 'Guava',\n",
              " 'Hazelnut',\n",
              " 'Huckleberry',\n",
              " 'Kaki',\n",
              " 'Kiwi',\n",
              " 'Kohlrabi',\n",
              " 'Kumquats',\n",
              " 'Lemon Meyer',\n",
              " 'Lemon',\n",
              " 'Limes',\n",
              " 'Lychee',\n",
              " 'Mandarine',\n",
              " 'Mango Red',\n",
              " 'Mango',\n",
              " 'Mangostan',\n",
              " 'Maracuja',\n",
              " 'Melon Piel de Sapo',\n",
              " 'Mulberry',\n",
              " 'Nectarine Flat',\n",
              " 'Nectarine',\n",
              " 'Nut Forest',\n",
              " 'Nut Pecan',\n",
              " 'Onion Red Peeled',\n",
              " 'Onion Red',\n",
              " 'Onion White',\n",
              " 'Orange',\n",
              " 'Papaya',\n",
              " 'Passion Fruit',\n",
              " 'Peach 2',\n",
              " 'Peach Flat',\n",
              " 'Peach',\n",
              " 'Pear 2',\n",
              " 'Pear Abate',\n",
              " 'Pear Forelle',\n",
              " 'Pear Kaiser',\n",
              " 'Pear Monster',\n",
              " 'Pear Red',\n",
              " 'Pear Stone',\n",
              " 'Pear Williams',\n",
              " 'Pear',\n",
              " 'Pepino',\n",
              " 'Pepper Green',\n",
              " 'Pepper Orange',\n",
              " 'Pepper Red',\n",
              " 'Pepper Yellow',\n",
              " 'Physalis with Husk',\n",
              " 'Physalis',\n",
              " 'Pineapple Mini',\n",
              " 'Pineapple',\n",
              " 'Pitahaya Red',\n",
              " 'Plum 2',\n",
              " 'Plum 3',\n",
              " 'Plum',\n",
              " 'Pomegranate',\n",
              " 'Pomelo Sweetie',\n",
              " 'Potato Red Washed',\n",
              " 'Potato Red',\n",
              " 'Potato Sweet',\n",
              " 'Potato White',\n",
              " 'Quince',\n",
              " 'Rambutan',\n",
              " 'Raspberry',\n",
              " 'Redcurrant',\n",
              " 'Salak',\n",
              " 'Strawberry Wedge',\n",
              " 'Strawberry',\n",
              " 'Tamarillo',\n",
              " 'Tangelo',\n",
              " 'Tomato 3',\n",
              " 'Tomato 4',\n",
              " 'Tomato Cherry Red',\n",
              " 'Tomato Heart',\n",
              " 'Tomato Maroon',\n",
              " 'Tomato Yellow',\n",
              " 'Tomato not Ripened',\n",
              " 'Walnut',\n",
              " 'Watermelon',\n",
              " 'Training2']"
            ]
          },
          "metadata": {},
          "execution_count": 14
        }
      ],
      "source": [
        "import os\n",
        "os.listdir('/content/drive/MyDrive/datasets/fruits360/fruits-360_dataset/fruits-360/Training') # checking the training folder"
      ]
    },
    {
      "cell_type": "code",
      "source": [
        "os.listdir('/content/drive/MyDrive/datasets/fruits360/fruits-360_dataset/fruits-360/Test')  #checking the test folder"
      ],
      "metadata": {
        "colab": {
          "base_uri": "https://localhost:8080/"
        },
        "id": "VVldFHCkEIQ7",
        "outputId": "321656bd-afae-4a46-8b42-091610b9de58"
      },
      "execution_count": null,
      "outputs": [
        {
          "output_type": "execute_result",
          "data": {
            "text/plain": [
              "['Apple Braeburn',\n",
              " 'Apple Crimson Snow',\n",
              " 'Apple Golden 1',\n",
              " 'Apple Golden 2',\n",
              " 'Apple Golden 3',\n",
              " 'Apple Granny Smith',\n",
              " 'Apple Pink Lady',\n",
              " 'Apple Red 1',\n",
              " 'Apple Red 2',\n",
              " 'Apple Red 3',\n",
              " 'Apple Red Delicious',\n",
              " 'Apple Red Yellow 1',\n",
              " 'Apple Red Yellow 2',\n",
              " 'Apricot',\n",
              " 'Avocado ripe',\n",
              " 'Banana Lady Finger',\n",
              " 'Banana Red',\n",
              " 'Banana',\n",
              " 'Beetroot',\n",
              " 'Blueberry',\n",
              " 'Cactus fruit',\n",
              " 'Cantaloupe 1',\n",
              " 'Cantaloupe 2',\n",
              " 'Carambula',\n",
              " 'Cauliflower',\n",
              " 'Cherry 1',\n",
              " 'Cherry Rainier',\n",
              " 'Cherry Wax Black',\n",
              " 'Cherry Wax Red',\n",
              " 'Cherry Wax Yellow',\n",
              " 'Chestnut',\n",
              " 'Clementine',\n",
              " 'Cocos',\n",
              " 'Corn Husk',\n",
              " 'Corn',\n",
              " 'Cucumber Ripe 2',\n",
              " 'Cucumber Ripe',\n",
              " 'Dates',\n",
              " 'Eggplant',\n",
              " 'Ginger Root',\n",
              " 'Granadilla',\n",
              " 'Grape Blue',\n",
              " 'Grape Pink',\n",
              " 'Grape White 2',\n",
              " 'Grape White 3',\n",
              " 'Grape White 4',\n",
              " 'Grape White',\n",
              " 'Grapefruit Pink',\n",
              " 'Grapefruit White',\n",
              " 'Guava',\n",
              " 'Hazelnut',\n",
              " 'Huckleberry',\n",
              " 'Kaki',\n",
              " 'Kiwi',\n",
              " 'Kohlrabi',\n",
              " 'Kumquats',\n",
              " 'Lemon Meyer',\n",
              " 'Lemon',\n",
              " 'Limes',\n",
              " 'Lychee',\n",
              " 'Mandarine',\n",
              " 'Mango Red',\n",
              " 'Mango',\n",
              " 'Mangostan',\n",
              " 'Maracuja',\n",
              " 'Melon Piel de Sapo',\n",
              " 'Mulberry',\n",
              " 'Nectarine Flat',\n",
              " 'Nectarine',\n",
              " 'Nut Forest',\n",
              " 'Nut Pecan',\n",
              " 'Onion Red Peeled',\n",
              " 'Onion Red',\n",
              " 'Onion White',\n",
              " 'Orange',\n",
              " 'Papaya',\n",
              " 'Passion Fruit',\n",
              " 'Peach 2',\n",
              " 'Peach Flat',\n",
              " 'Peach',\n",
              " 'Pear 2',\n",
              " 'Pear Abate',\n",
              " 'Pear Forelle',\n",
              " 'Pear Kaiser',\n",
              " 'Pear Monster',\n",
              " 'Pear Red',\n",
              " 'Pear Stone',\n",
              " 'Pear Williams',\n",
              " 'Pear',\n",
              " 'Pepino',\n",
              " 'Pepper Green',\n",
              " 'Pepper Orange',\n",
              " 'Pepper Red',\n",
              " 'Pepper Yellow',\n",
              " 'Physalis with Husk',\n",
              " 'Physalis',\n",
              " 'Pineapple Mini',\n",
              " 'Pineapple',\n",
              " 'Pitahaya Red',\n",
              " 'Plum 2',\n",
              " 'Plum 3',\n",
              " 'Plum',\n",
              " 'Pomegranate',\n",
              " 'Pomelo Sweetie',\n",
              " 'Potato Red Washed',\n",
              " 'Potato Red',\n",
              " 'Potato Sweet',\n",
              " 'Potato White',\n",
              " 'Quince',\n",
              " 'Rambutan',\n",
              " 'Raspberry',\n",
              " 'Redcurrant',\n",
              " 'Salak',\n",
              " 'Strawberry Wedge',\n",
              " 'Strawberry',\n",
              " 'Tamarillo',\n",
              " 'Tangelo',\n",
              " 'Tomato 3',\n",
              " 'Tomato 4',\n",
              " 'Tomato Cherry Red',\n",
              " 'Tomato Heart',\n",
              " 'Tomato Maroon',\n",
              " 'Tomato Yellow',\n",
              " 'Tomato not Ripened',\n",
              " 'Walnut',\n",
              " 'Watermelon',\n",
              " 'Test2']"
            ]
          },
          "metadata": {},
          "execution_count": 15
        }
      ]
    },
    {
      "cell_type": "code",
      "execution_count": null,
      "metadata": {
        "id": "tijc7hIUKibu"
      },
      "outputs": [],
      "source": [
        "#Setting Training & Test dir paths\n",
        "train_path_initial = '/content/drive/MyDrive/datasets/fruits360/fruits-360_dataset/fruits-360/Training/' \n",
        "\n",
        "valid_path_initial = '/content/drive/MyDrive/datasets/fruits360/fruits-360_dataset/fruits-360/Test/'\n"
      ]
    },
    {
      "cell_type": "code",
      "source": [
        "# calculating the top 20 classes \n",
        "\n",
        "classes = []\n",
        "fruit_item = []\n",
        "for i in os.listdir(train_path_initial):\n",
        "  for image_filename in os.listdir(train_path_initial+i):\n",
        "    classes.append(i)\n",
        "    fruit_item.append(i+'/'+ image_filename)\n",
        "\n",
        "count = Counter(classes)\n",
        "most_frequent = count.most_common(20)\n",
        "print(\"Top 20 frequent Fruits:\")\n",
        "most_frequent"
      ],
      "metadata": {
        "colab": {
          "base_uri": "https://localhost:8080/"
        },
        "id": "A5EoTR7eiIeD",
        "outputId": "8e7ff353-6b1e-47ce-a988-24076cafdfd8"
      },
      "execution_count": null,
      "outputs": [
        {
          "output_type": "stream",
          "name": "stdout",
          "text": [
            "Top 20 frequent Fruits:\n"
          ]
        },
        {
          "output_type": "execute_result",
          "data": {
            "text/plain": [
              "[('Grape Blue', 984),\n",
              " ('Plum 3', 900),\n",
              " ('Cherry Rainier', 738),\n",
              " ('Melon Piel de Sapo', 738),\n",
              " ('Peach 2', 738),\n",
              " ('Strawberry Wedge', 738),\n",
              " ('Pear Stone', 711),\n",
              " ('Cauliflower', 702),\n",
              " ('Pear Forelle', 702),\n",
              " ('Pepper Orange', 702),\n",
              " ('Pear 2', 696),\n",
              " ('Apple Red Yellow 2', 672),\n",
              " ('Pear Red', 666),\n",
              " ('Pepper Red', 666),\n",
              " ('Pepper Yellow', 666),\n",
              " ('Nut Forest', 654),\n",
              " ('Nut Pecan', 534),\n",
              " ('Pineapple Mini', 493),\n",
              " ('Apple Braeburn', 492),\n",
              " ('Apple Golden 2', 492)]"
            ]
          },
          "metadata": {},
          "execution_count": 17
        }
      ]
    },
    {
      "cell_type": "code",
      "execution_count": null,
      "metadata": {
        "id": "oRO7644lKxVS"
      },
      "outputs": [],
      "source": [
        "# re-size all the images to this\n",
        "IMAGE_SIZE = [100, 100]\n",
        "\n",
        "# training config:\n",
        "epochs = 10\n",
        "batch_size = 32"
      ]
    },
    {
      "cell_type": "code",
      "source": [
        "# setting new reduced training and test paths\n",
        "train_path = '/content/drive/MyDrive/datasets/fruits360/fruits-360_dataset/fruits-360/Training/Training2/' \n",
        "valid_path = '/content/drive/MyDrive/datasets/fruits360/fruits-360_dataset/fruits-360/Test/Test2/'"
      ],
      "metadata": {
        "id": "11qNKzZgUFqD"
      },
      "execution_count": null,
      "outputs": []
    },
    {
      "cell_type": "code",
      "source": [
        "os.listdir('/content/drive/MyDrive/datasets/fruits360/fruits-360_dataset/fruits-360/Training/Training2')  "
      ],
      "metadata": {
        "colab": {
          "base_uri": "https://localhost:8080/"
        },
        "id": "573-PwsUYeBO",
        "outputId": "d887a950-0cef-4cc6-decb-613ec1884d58"
      },
      "execution_count": null,
      "outputs": [
        {
          "output_type": "execute_result",
          "data": {
            "text/plain": [
              "['Avocado', 'Cherry 2', 'Fig', 'Tomato 1', 'Tomato 2']"
            ]
          },
          "metadata": {},
          "execution_count": 20
        }
      ]
    },
    {
      "cell_type": "code",
      "source": [
        "os.listdir('/content/drive/MyDrive/datasets/fruits360/fruits-360_dataset/fruits-360/Test/Test2')"
      ],
      "metadata": {
        "colab": {
          "base_uri": "https://localhost:8080/"
        },
        "id": "bCIsqsrTTRTa",
        "outputId": "394f84e3-6ca7-40e3-fa3d-136db9726ab8"
      },
      "execution_count": null,
      "outputs": [
        {
          "output_type": "execute_result",
          "data": {
            "text/plain": [
              "['Avocado', 'Cherry 2', 'Fig', 'Tomato 1', 'Tomato 2']"
            ]
          },
          "metadata": {},
          "execution_count": 21
        }
      ]
    },
    {
      "cell_type": "code",
      "execution_count": null,
      "metadata": {
        "id": "BVrlu78Qoaak"
      },
      "outputs": [],
      "source": [
        "# getting number of files\n",
        "image_files = glob(train_path + '/*/*.jp*g')\n",
        "valid_image_files = glob(valid_path + '/*/*.jp*g')"
      ]
    },
    {
      "cell_type": "code",
      "execution_count": null,
      "metadata": {
        "id": "B26sXtr2RPmy"
      },
      "outputs": [],
      "source": [
        "folders = glob(train_path + '/*')"
      ]
    },
    {
      "cell_type": "code",
      "execution_count": null,
      "metadata": {
        "colab": {
          "base_uri": "https://localhost:8080/",
          "height": 268
        },
        "id": "vww1urUKfsZt",
        "outputId": "2a9cbdd5-8811-4709-d746-06e65f9ef153"
      },
      "outputs": [
        {
          "output_type": "display_data",
          "data": {
            "text/plain": [
              "<Figure size 432x288 with 1 Axes>"
            ],
            "image/png": "[encoded data removed]"
          },
          "metadata": {
            "needs_background": "light"
          }
        }
      ],
      "source": [
        "# look at a random image\n",
        "plt.imshow(image.load_img(np.random.choice(image_files)));"
      ]
    },
    {
      "cell_type": "code",
      "execution_count": null,
      "metadata": {
        "id": "wvC5PZCDnzXP"
      },
      "outputs": [],
      "source": [
        "# Data Augmentation of ImageDataGenerator\n",
        "\n",
        "train_gen = ImageDataGenerator(\n",
        "  rotation_range= 40,\n",
        "  width_shift_range=0.5,\n",
        "  height_shift_range=0.1,\n",
        "  shear_range=0.2,\n",
        "  zoom_range=0.1,\n",
        "  horizontal_flip=True,\n",
        "  vertical_flip=True,\n",
        "  preprocessing_function=preprocess_input)\n",
        "\n",
        "val_gen = ImageDataGenerator(\n",
        "  preprocessing_function=preprocess_input\n",
        ")"
      ]
    },
    {
      "cell_type": "code",
      "execution_count": null,
      "metadata": {
        "colab": {
          "base_uri": "https://localhost:8080/"
        },
        "id": "ILwY6FsH_Dev",
        "outputId": "a113d3e4-f1f8-4a36-d63c-6c11383fc1d2"
      },
      "outputs": [
        {
          "output_type": "stream",
          "name": "stdout",
          "text": [
            "Found 3211 images belonging to 5 classes.\n",
            "Found 1094 images belonging to 5 classes.\n"
          ]
        }
      ],
      "source": [
        "# creating iterators\n",
        "train_generator = train_gen.flow_from_directory(\n",
        "  train_path,\n",
        "  target_size=IMAGE_SIZE,\n",
        "  shuffle=True,\n",
        "  batch_size=batch_size,\n",
        "  class_mode='sparse',\n",
        ")\n",
        "\n",
        "valid_generator = val_gen.flow_from_directory(\n",
        "  valid_path,\n",
        "  target_size=IMAGE_SIZE,\n",
        "  shuffle=False,\n",
        "  batch_size=batch_size,\n",
        "  class_mode='sparse',\n",
        ")"
      ]
    },
    {
      "cell_type": "code",
      "execution_count": null,
      "metadata": {
        "colab": {
          "base_uri": "https://localhost:8080/"
        },
        "id": "hx36RtQHzC2P",
        "outputId": "080a56ab-7714-481c-a1c1-309bbb926a6e"
      },
      "outputs": [
        {
          "output_type": "stream",
          "name": "stdout",
          "text": [
            "Downloading data from https://storage.googleapis.com/tensorflow/keras-applications/resnet/resnet50_weights_tf_dim_ordering_tf_kernels_notop.h5\n",
            "94765736/94765736 [==============================] - 1s 0us/step\n",
            "Model: \"sequential\"\n",
            "_________________________________________________________________\n",
            " Layer (type)                Output Shape              Param #   \n",
            "=================================================================\n",
            " resnet50 (Functional)       (None, 4, 4, 2048)        23587712  \n",
            "                                                                 \n",
            " flatten (Flatten)           (None, 32768)             0         \n",
            "                                                                 \n",
            " dense (Dense)               (None, 64)                2097216   \n",
            "                                                                 \n",
            " dropout (Dropout)           (None, 64)                0         \n",
            "                                                                 \n",
            " dense_1 (Dense)             (None, 5)                 325       \n",
            "                                                                 \n",
            "=================================================================\n",
            "Total params: 25,685,253\n",
            "Trainable params: 2,097,541\n",
            "Non-trainable params: 23,587,712\n",
            "_________________________________________________________________\n"
          ]
        }
      ],
      "source": [
        "# Uploading ResNet50 and then applying some output layers\n",
        "pretrained_model= tf.keras.applications.ResNet50(include_top=False,\n",
        "                   input_shape=(100, 100, 3),\n",
        "                   weights='imagenet')\n",
        "\n",
        "for layer in pretrained_model.layers:\n",
        "        layer.trainable=False\n",
        "\n",
        "model = tf.keras.models.Sequential([    \n",
        "    pretrained_model,\n",
        "    tf.keras.layers.Flatten(),\n",
        "    tf.keras.layers.Dense(64, activation='relu'),\n",
        "    tf.keras.layers.Dropout(0.25),\n",
        "    tf.keras.layers.Dense(5,activation='softmax')\n",
        "])\n",
        "model.summary()"
      ]
    },
    {
      "cell_type": "code",
      "execution_count": null,
      "metadata": {
        "id": "MJiBsxmi2Vhx"
      },
      "outputs": [],
      "source": [
        "# tell the model what cost and optimization method to use\n",
        "model.compile(\n",
        "  loss='sparse_categorical_crossentropy',\n",
        "  optimizer='adam',\n",
        "  metrics=['accuracy'])"
      ]
    },
    {
      "cell_type": "code",
      "execution_count": null,
      "metadata": {
        "colab": {
          "base_uri": "https://localhost:8080/"
        },
        "id": "dMMDRqjR_RBx",
        "outputId": "fab5a986-2c36-4369-8a7b-6420c444696f"
      },
      "outputs": [
        {
          "output_type": "stream",
          "name": "stdout",
          "text": [
            "Epoch 1/10\n",
            "100/100 [==============================] - 744s 7s/step - loss: 0.5707 - accuracy: 0.9066 - val_loss: 0.0100 - val_accuracy: 0.9963\n",
            "Epoch 2/10\n",
            "100/100 [==============================] - 189s 2s/step - loss: 0.1061 - accuracy: 0.9667 - val_loss: 0.0400 - val_accuracy: 0.9881\n",
            "Epoch 3/10\n",
            "100/100 [==============================] - 190s 2s/step - loss: 0.1236 - accuracy: 0.9717 - val_loss: 0.1715 - val_accuracy: 0.9357\n",
            "Epoch 4/10\n",
            "100/100 [==============================] - 193s 2s/step - loss: 0.1170 - accuracy: 0.9726 - val_loss: 0.0073 - val_accuracy: 1.0000\n",
            "Epoch 5/10\n",
            "100/100 [==============================] - 188s 2s/step - loss: 0.0556 - accuracy: 0.9821 - val_loss: 0.0128 - val_accuracy: 0.9972\n",
            "Epoch 6/10\n",
            "100/100 [==============================] - 187s 2s/step - loss: 0.0779 - accuracy: 0.9786 - val_loss: 0.0021 - val_accuracy: 0.9991\n",
            "Epoch 7/10\n",
            "100/100 [==============================] - 186s 2s/step - loss: 0.0639 - accuracy: 0.9799 - val_loss: 0.0013 - val_accuracy: 1.0000\n",
            "Epoch 8/10\n",
            "100/100 [==============================] - 190s 2s/step - loss: 0.0477 - accuracy: 0.9871 - val_loss: 0.0065 - val_accuracy: 0.9972\n",
            "Epoch 9/10\n",
            "100/100 [==============================] - 189s 2s/step - loss: 0.0716 - accuracy: 0.9796 - val_loss: 0.0023 - val_accuracy: 0.9991\n",
            "Epoch 10/10\n",
            "100/100 [==============================] - 186s 2s/step - loss: 0.0530 - accuracy: 0.9843 - val_loss: 0.0071 - val_accuracy: 0.9954\n"
          ]
        }
      ],
      "source": [
        "# defining a callback function to stop the model \n",
        "class myCallback(tf.keras.callbacks.Callback):\n",
        "  def on_epoch_end(self,epoch,logs={}):\n",
        "    if(logs['accuracy']>=0.99):\n",
        "      self.model.stop_training=True\n",
        "\n",
        "callbacks=myCallback()\n",
        "\n",
        "# fitting the model\n",
        "hist = model.fit(\n",
        "  train_generator,\n",
        "  validation_data=valid_generator,\n",
        "  epochs=epochs,\n",
        "  steps_per_epoch=len(image_files) // batch_size,\n",
        "  validation_steps=len(valid_image_files) // batch_size,\n",
        "  callbacks = [callbacks],\n",
        ")"
      ]
    },
    {
      "cell_type": "code",
      "source": [
        "#accuracy plot\n",
        "plt.plot(hist.history['accuracy'], label='train accuracy')\n",
        "plt.plot(hist.history['val_accuracy'], label='val accuracy')\n",
        "plt.axis(ymin=0.4,ymax=1.05)\n",
        "plt.grid()\n",
        "plt.title('ResNet50 Accuracy')\n",
        "plt.ylabel('Accuracy')\n",
        "plt.xlabel('Epochs')\n",
        "plt.legend(['train', 'validation'])\n",
        "plt.show()\n"
      ],
      "metadata": {
        "colab": {
          "base_uri": "https://localhost:8080/",
          "height": 295
        },
        "id": "EM7fGsjrd2Yb",
        "outputId": "c86d0eb8-4286-43c4-a282-6096be274084"
      },
      "execution_count": null,
      "outputs": [
        {
          "output_type": "display_data",
          "data": {
            "text/plain": [
              "<Figure size 432x288 with 1 Axes>"
            ],
            "image/png": "[encoded data removed]"
          },
          "metadata": {
            "needs_background": "light"
          }
        }
      ]
    },
    {
      "cell_type": "code",
      "execution_count": null,
      "metadata": {
        "id": "B8i4kFQaAFLc",
        "colab": {
          "base_uri": "https://localhost:8080/",
          "height": 295
        },
        "outputId": "89e27934-fef2-4f79-9681-1a53964eb018"
      },
      "outputs": [
        {
          "output_type": "display_data",
          "data": {
            "text/plain": [
              "<Figure size 432x288 with 1 Axes>"
            ],
            "image/png": "[encoded data removed]"
          },
          "metadata": {
            "needs_background": "light"
          }
        }
      ],
      "source": [
        "# loss plot\n",
        "plt.plot(hist.history['loss'], label='train loss')\n",
        "plt.plot(hist.history['val_loss'], label='val loss')\n",
        "plt.axis(ymin=0,ymax=1)\n",
        "plt.grid()\n",
        "plt.title('ResNet50 Loss')\n",
        "plt.ylabel('Loss')\n",
        "plt.xlabel('Epochs')\n",
        "plt.legend(['train', 'validation'])\n",
        "plt.show()"
      ]
    },
    {
      "cell_type": "code",
      "execution_count": null,
      "metadata": {
        "id": "OGnFL-BEIEUy",
        "colab": {
          "base_uri": "https://localhost:8080/"
        },
        "outputId": "e91e2188-0c2f-4f16-fa4f-3359bd3587b9"
      },
      "outputs": [
        {
          "output_type": "stream",
          "name": "stderr",
          "text": [
            "WARNING:absl:Found untraced functions such as _jit_compiled_convolution_op, _jit_compiled_convolution_op, _jit_compiled_convolution_op, _jit_compiled_convolution_op, _jit_compiled_convolution_op while saving (showing 5 of 53). These functions will not be directly callable after loading.\n"
          ]
        }
      ],
      "source": [
        "model.save('fruits-360_dataset/fruits-360')"
      ]
    },
    {
      "cell_type": "code",
      "execution_count": null,
      "metadata": {
        "id": "qaCdli6piBoI",
        "colab": {
          "base_uri": "https://localhost:8080/"
        },
        "outputId": "818c672d-8f4e-4d10-a20b-2a0f7b1d4485"
      },
      "outputs": [
        {
          "output_type": "stream",
          "name": "stdout",
          "text": [
            "35/35 [==============================] - 46s 1s/step - loss: 0.0071 - accuracy: 0.9954\n"
          ]
        },
        {
          "output_type": "execute_result",
          "data": {
            "text/plain": [
              "[0.007068823557347059, 0.9954296350479126]"
            ]
          },
          "metadata": {},
          "execution_count": 37
        }
      ],
      "source": [
        "model.evaluate(valid_generator)"
      ]
    },
    {
      "cell_type": "code",
      "execution_count": null,
      "metadata": {
        "id": "dJZfgkZ3OJ_u"
      },
      "outputs": [],
      "source": [
        "from tensorflow import keras\n",
        "model = keras.models.load_model('fruits-360_dataset/fruits-360')"
      ]
    }
  ],
  "metadata": {
    "colab": {
      "provenance": []
    },
    "gpuClass": "premium",
    "kernelspec": {
      "display_name": "Python 3",
      "name": "python3"
    },
    "language_info": {
      "name": "python"
    }
  },
  "nbformat": 4,
  "nbformat_minor": 0
}
